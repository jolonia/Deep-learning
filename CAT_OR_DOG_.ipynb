{
  "nbformat": 4,
  "nbformat_minor": 0,
  "metadata": {
    "colab": {
      "provenance": [],
      "include_colab_link": true
    },
    "kernelspec": {
      "name": "python3",
      "display_name": "Python 3"
    },
    "accelerator": "GPU"
  },
  "cells": [
    {
      "cell_type": "markdown",
      "metadata": {
        "id": "view-in-github",
        "colab_type": "text"
      },
      "source": [
        "<a href=\"https://colab.research.google.com/github/jolonia/Deep-learning/blob/main/CAT_OR_DOG_.ipynb\" target=\"_parent\"><img src=\"https://colab.research.google.com/assets/colab-badge.svg\" alt=\"Open In Colab\"/></a>"
      ]
    },
    {
      "cell_type": "markdown",
      "metadata": {
        "id": "puffLiZEnkhh"
      },
      "source": [
        "# Cat or Dog?"
      ]
    },
    {
      "cell_type": "markdown",
      "metadata": {
        "id": "kGfFy8jWTwan"
      },
      "source": [
        "## 1. Problem statement\n",
        "\n",
        "\n",
        "The deep learning process is a huge leap\n",
        "\n",
        "forward in data science and the field is less than 10 years old.\n",
        "The data collection portion of deep learning projects is a rather complex task. There is no CSV file that we can load to serve as our training data.\n",
        "Constructing a training data set is a rather large undertaking. I have imported all the training images and loaded the training data through the \"pickle\" process.\n",
        "\n",
        "This project will classify new, unseen images of cats and dogs. This was one of the\n",
        "first big success stories of deep learning and we will go through the process of\n",
        "building a learning algorithm that will do this task. Telling a picture of a cat from a\n",
        "picture of a dog is easy for humans to do, but had been notoriously difficult to get a\n",
        "computer learning to perform well on the task. Deep learning solved that.\n",
        "\n"
      ]
    },
    {
      "cell_type": "markdown",
      "metadata": {
        "id": "THGIbGxBnVGB"
      },
      "source": [
        "## 2. Load necessary packages"
      ]
    },
    {
      "cell_type": "code",
      "metadata": {
        "id": "5On8o8wboTAT"
      },
      "source": [
        "import numpy as np\n",
        "import matplotlib.pyplot as plt\n",
        "import cv2\n",
        "\n",
        "import tensorflow as tf\n",
        "from tensorflow.keras.models import Sequential\n",
        "from tensorflow.keras.layers import Dense, Flatten, Conv2D, MaxPooling2D\n",
        "from sklearn.model_selection import train_test_split"
      ],
      "execution_count": 2,
      "outputs": []
    },
    {
      "cell_type": "markdown",
      "metadata": {
        "id": "HvrTROVbolbf"
      },
      "source": [
        "##3. Load pickled data"
      ]
    },
    {
      "cell_type": "code",
      "metadata": {
        "colab": {
          "base_uri": "https://localhost:8080/"
        },
        "id": "BgGiMENQNjF4",
        "outputId": "f8c47ccd-4886-4a2a-ed62-d59df8b2e8dc"
      },
      "source": [
        "from google.colab import drive\n",
        "drive.mount('/drive')"
      ],
      "execution_count": null,
      "outputs": [
        {
          "output_type": "stream",
          "name": "stdout",
          "text": [
            "Mounted at /drive\n"
          ]
        }
      ]
    },
    {
      "cell_type": "code",
      "metadata": {
        "id": "c0h6S17Mooq7"
      },
      "source": [
        "import pickle\n",
        "\n",
        "pickle_in = open('/content/drive/MyDrive/Colab Notebooks/Copy of X.pickle','rb')\n",
        "X = pickle.load(pickle_in)\n",
        "\n",
        "pickle_in = open('/content/drive/MyDrive/Colab Notebooks/Copy of y.pickle')\n",
        "y = pickle.load(pickle_in)"
      ],
      "execution_count": null,
      "outputs": []
    },
    {
      "cell_type": "code",
      "source": [
        "from google.colab import drive\n",
        "drive.mount('/content/drive')"
      ],
      "metadata": {
        "colab": {
          "base_uri": "https://localhost:8080/"
        },
        "id": "gyYhCe029POr",
        "outputId": "2bac8abf-aed2-4e35-c6e7-e55bbe8a68c3"
      },
      "execution_count": 1,
      "outputs": [
        {
          "output_type": "stream",
          "name": "stdout",
          "text": [
            "Mounted at /content/drive\n"
          ]
        }
      ]
    },
    {
      "cell_type": "code",
      "metadata": {
        "colab": {
          "base_uri": "https://localhost:8080/"
        },
        "id": "LeC-zcjskdVJ",
        "outputId": "c3e32510-80c1-4057-ed88-f1a355eff5ec"
      },
      "source": [
        "X.shape"
      ],
      "execution_count": null,
      "outputs": [
        {
          "output_type": "execute_result",
          "data": {
            "text/plain": [
              "(24946, 100, 100, 1)"
            ]
          },
          "metadata": {},
          "execution_count": 4
        }
      ]
    },
    {
      "cell_type": "code",
      "metadata": {
        "id": "yrD-l570nIjk"
      },
      "source": [
        "y = np.array(y)"
      ],
      "execution_count": null,
      "outputs": []
    },
    {
      "cell_type": "code",
      "metadata": {
        "colab": {
          "base_uri": "https://localhost:8080/"
        },
        "id": "qIV7ijUKkiG3",
        "outputId": "b4b84218-56f5-4e74-e9b2-bf346c2be285"
      },
      "source": [
        "type(X)"
      ],
      "execution_count": null,
      "outputs": [
        {
          "output_type": "execute_result",
          "data": {
            "text/plain": [
              "numpy.ndarray"
            ]
          },
          "metadata": {},
          "execution_count": 6
        }
      ]
    },
    {
      "cell_type": "code",
      "metadata": {
        "colab": {
          "base_uri": "https://localhost:8080/"
        },
        "id": "cvAmh4s0kmlG",
        "outputId": "8691f5ef-b2ba-4207-f11b-0b1d133380d2"
      },
      "source": [
        "X[0,:,:,0]"
      ],
      "execution_count": null,
      "outputs": [
        {
          "output_type": "execute_result",
          "data": {
            "text/plain": [
              "array([[ 95,  94,  98, ..., 170, 172, 171],\n",
              "       [ 92,  91,  95, ..., 170, 172, 171],\n",
              "       [ 89,  91,  92, ..., 165, 169, 169],\n",
              "       ...,\n",
              "       [ 84,  76,  73, ..., 135, 164, 154],\n",
              "       [ 82,  79,  71, ..., 142, 134, 153],\n",
              "       [ 80,  85,  85, ..., 151, 146, 138]], dtype=uint8)"
            ]
          },
          "metadata": {},
          "execution_count": 7
        }
      ]
    },
    {
      "cell_type": "markdown",
      "metadata": {
        "id": "gSR-QLJZcBRf"
      },
      "source": [
        "##4. Scale the values in X"
      ]
    },
    {
      "cell_type": "code",
      "metadata": {
        "id": "bOXhtmCScE3d"
      },
      "source": [
        "X = X/255.0\n",
        "y = np.array(y)"
      ],
      "execution_count": null,
      "outputs": []
    },
    {
      "cell_type": "code",
      "metadata": {
        "colab": {
          "base_uri": "https://localhost:8080/"
        },
        "id": "90POc3Ruo0Vi",
        "outputId": "d44fe7cd-f4ed-4866-9cca-b421e4041e47"
      },
      "source": [
        "X.shape"
      ],
      "execution_count": null,
      "outputs": [
        {
          "output_type": "execute_result",
          "data": {
            "text/plain": [
              "(24946, 100, 100, 1)"
            ]
          },
          "metadata": {},
          "execution_count": 9
        }
      ]
    },
    {
      "cell_type": "markdown",
      "metadata": {
        "id": "lcUHlh9Tncef"
      },
      "source": [
        "##5. Look at the shape of X and y"
      ]
    },
    {
      "cell_type": "code",
      "metadata": {
        "id": "bcY-YScZg4Hc",
        "colab": {
          "base_uri": "https://localhost:8080/"
        },
        "outputId": "8d20de0e-b53b-4d19-9835-5e952823761c"
      },
      "source": [
        "X.shape"
      ],
      "execution_count": null,
      "outputs": [
        {
          "output_type": "execute_result",
          "data": {
            "text/plain": [
              "(24946, 100, 100, 1)"
            ]
          },
          "metadata": {},
          "execution_count": 10
        }
      ]
    },
    {
      "cell_type": "code",
      "metadata": {
        "id": "Kg3dxZ-PsyH6",
        "colab": {
          "base_uri": "https://localhost:8080/"
        },
        "outputId": "73e7527f-155d-42cc-bbaf-93845a98de51"
      },
      "source": [
        "np.shape(X[1,:,:,0])"
      ],
      "execution_count": null,
      "outputs": [
        {
          "output_type": "execute_result",
          "data": {
            "text/plain": [
              "(100, 100)"
            ]
          },
          "metadata": {},
          "execution_count": 11
        }
      ]
    },
    {
      "cell_type": "markdown",
      "metadata": {
        "id": "aN02QHvxnert"
      },
      "source": [
        "## 6. Look at one of the images in X"
      ]
    },
    {
      "cell_type": "code",
      "metadata": {
        "id": "WfTrtxxUpxU2",
        "colab": {
          "base_uri": "https://localhost:8080/",
          "height": 268
        },
        "outputId": "c9618736-5830-4636-c001-b51fba56921f"
      },
      "source": [
        "plt.imshow(X[20001,:,:,0], cmap='gray')\n",
        "plt.show()"
      ],
      "execution_count": null,
      "outputs": [
        {
          "output_type": "display_data",
          "data": {
            "image/png": "[encoded data removed]",
            "text/plain": [
              "<Figure size 432x288 with 1 Axes>"
            ]
          },
          "metadata": {
            "needs_background": "light"
          }
        }
      ]
    },
    {
      "cell_type": "markdown",
      "metadata": {
        "id": "lAz7duXEnnlo"
      },
      "source": [
        "## 7. Look at the response value in y for that image"
      ]
    },
    {
      "cell_type": "code",
      "metadata": {
        "id": "N8wg2GeWtNd2",
        "colab": {
          "base_uri": "https://localhost:8080/"
        },
        "outputId": "2ded4c15-391f-4d72-bea8-249e23215922"
      },
      "source": [
        "y[20001] # 0: Dog, 1: Cat"
      ],
      "execution_count": null,
      "outputs": [
        {
          "output_type": "execute_result",
          "data": {
            "text/plain": [
              "0"
            ]
          },
          "metadata": {},
          "execution_count": 13
        }
      ]
    },
    {
      "cell_type": "markdown",
      "metadata": {
        "id": "DGroBJ6InvFA"
      },
      "source": [
        "## 8. Split X and y into training and testing sets"
      ]
    },
    {
      "cell_type": "code",
      "metadata": {
        "id": "vEc_Yo1KkebW"
      },
      "source": [
        "# Split the data up in train and test sets\n",
        "X_train, X_test, y_train, y_test = train_test_split(X, y, test_size=0.25, random_state=42)"
      ],
      "execution_count": null,
      "outputs": []
    },
    {
      "cell_type": "markdown",
      "metadata": {
        "id": "gGousuN0cPoh"
      },
      "source": [
        "## 9-11. Build a neural network. Compile your model. Fit your model using the training set."
      ]
    },
    {
      "cell_type": "code",
      "metadata": {
        "id": "TdhBDU3-6Y2D",
        "colab": {
          "base_uri": "https://localhost:8080/"
        },
        "outputId": "3eead0e6-1ad4-4725-b50b-602fa26e302e"
      },
      "source": [
        "y_train.shape"
      ],
      "execution_count": null,
      "outputs": [
        {
          "output_type": "execute_result",
          "data": {
            "text/plain": [
              "(18709,)"
            ]
          },
          "metadata": {},
          "execution_count": 15
        }
      ]
    },
    {
      "cell_type": "code",
      "metadata": {
        "id": "RsWeyqSDcTC1",
        "colab": {
          "base_uri": "https://localhost:8080/"
        },
        "outputId": "7fa127e2-2e8c-4fce-a4f8-d89c0e0be3ea"
      },
      "source": [
        "model = Sequential()\n",
        "\n",
        "model.add(Conv2D(64, (3,3), input_shape=X_train.shape[1:], activation = 'relu'))\n",
        "model.add(MaxPooling2D(pool_size=(2,2)))\n",
        "\n",
        "model.add(Conv2D(64, (3,3), activation = 'relu'))\n",
        "model.add(MaxPooling2D(pool_size=(2,2)))\n",
        "\n",
        "model.add(Conv2D(64, (3,3), activation = 'relu'))\n",
        "model.add(MaxPooling2D(pool_size=(2,2)))\n",
        "\n",
        "model.add(Flatten())\n",
        "\n",
        "model.add(Dense(1, activation = 'sigmoid'))\n",
        "\n",
        "model.compile(loss='binary_crossentropy', optimizer='adam', metrics=['accuracy'])\n",
        "\n",
        "model.fit(X_train, y_train, epochs=8)"
      ],
      "execution_count": null,
      "outputs": [
        {
          "output_type": "stream",
          "name": "stdout",
          "text": [
            "Epoch 1/8\n",
            "585/585 [==============================] - 30s 31ms/step - loss: 0.6262 - accuracy: 0.6309\n",
            "Epoch 2/8\n",
            "585/585 [==============================] - 18s 31ms/step - loss: 0.5028 - accuracy: 0.7569\n",
            "Epoch 3/8\n",
            "585/585 [==============================] - 18s 31ms/step - loss: 0.4504 - accuracy: 0.7884\n",
            "Epoch 4/8\n",
            "585/585 [==============================] - 18s 31ms/step - loss: 0.4041 - accuracy: 0.8173\n",
            "Epoch 5/8\n",
            "585/585 [==============================] - 18s 31ms/step - loss: 0.3637 - accuracy: 0.8360\n",
            "Epoch 6/8\n",
            "585/585 [==============================] - 18s 30ms/step - loss: 0.3306 - accuracy: 0.8543\n",
            "Epoch 7/8\n",
            "585/585 [==============================] - 18s 31ms/step - loss: 0.2961 - accuracy: 0.8719\n",
            "Epoch 8/8\n",
            "585/585 [==============================] - 18s 31ms/step - loss: 0.2637 - accuracy: 0.8863\n"
          ]
        },
        {
          "output_type": "execute_result",
          "data": {
            "text/plain": [
              "<keras.callbacks.History at 0x7f66e193ecd0>"
            ]
          },
          "metadata": {},
          "execution_count": 16
        }
      ]
    },
    {
      "cell_type": "markdown",
      "metadata": {
        "id": "Lyovn9y_n0nA"
      },
      "source": [
        "## 12. Evaluate your model using the test set."
      ]
    },
    {
      "cell_type": "code",
      "metadata": {
        "id": "GfDyoPaIkb00",
        "colab": {
          "base_uri": "https://localhost:8080/"
        },
        "outputId": "36fe932d-3c0b-4c11-afa8-bb15926fcbfd"
      },
      "source": [
        "loss, accuracy = model.evaluate(X_test, y_test)\n",
        "print(accuracy)"
      ],
      "execution_count": null,
      "outputs": [
        {
          "output_type": "stream",
          "name": "stdout",
          "text": [
            "195/195 [==============================] - 3s 14ms/step - loss: 0.3468 - accuracy: 0.8568\n",
            "0.8568221926689148\n"
          ]
        }
      ]
    },
    {
      "cell_type": "markdown",
      "metadata": {
        "id": "YfBuJgS1jsnR"
      },
      "source": [
        "Save model to disk."
      ]
    },
    {
      "cell_type": "code",
      "metadata": {
        "id": "BxEmFQ9Zjr30"
      },
      "source": [
        "#model.save('/content/drive/My Drive/Instructor Material/Projects (For Licensing)/Project 6/64x3-CNN-2.model')"
      ],
      "execution_count": null,
      "outputs": []
    },
    {
      "cell_type": "markdown",
      "metadata": {
        "id": "cBPdtAEhj-lU"
      },
      "source": [
        "Load model from disk."
      ]
    },
    {
      "cell_type": "code",
      "metadata": {
        "id": "dxSjk-wukA8U"
      },
      "source": [
        "#model2 = tf.keras.models.load_model('/content/drive/My Drive/Instructor Material/Projects (For Licensing)/Project 6/64x3-CNN-2.model')"
      ],
      "execution_count": null,
      "outputs": []
    },
    {
      "cell_type": "markdown",
      "metadata": {
        "id": "eWFKiOS3kcnL"
      },
      "source": [
        "## 13. Define a function to read in a new image and convert it to a 4D array of pixels"
      ]
    },
    {
      "cell_type": "code",
      "metadata": {
        "id": "Dkk5nqOskkU5"
      },
      "source": [
        "def prepare(filepath):\n",
        "    IMG_SIZE = 100\n",
        "    img_array = cv2.imread(filepath, cv2.IMREAD_GRAYSCALE)\n",
        "    new_array = cv2.resize(img_array, (IMG_SIZE, IMG_SIZE))\n",
        "    return new_array.reshape(-1, IMG_SIZE, IMG_SIZE, 1)"
      ],
      "execution_count": null,
      "outputs": []
    },
    {
      "cell_type": "markdown",
      "metadata": {
        "id": "6znwI7q1oFyo"
      },
      "source": [
        "## 14. Read in dog.jpg image"
      ]
    },
    {
      "cell_type": "code",
      "metadata": {
        "id": "4O9pEy5klZzO"
      },
      "source": [
        "filepath = '/drive/My Drive/Data Science Instructor Material (for licensing)/Projects/Project 6/Data/dog.jpg'\n",
        "\n",
        "X_in = prepare(filepath)\n",
        "\n",
        "img_array = cv2.imread(filepath, cv2.IMREAD_GRAYSCALE)\n",
        "plt.imshow(img_array, cmap='gray')\n",
        "plt.show()"
      ],
      "execution_count": null,
      "outputs": []
    },
    {
      "cell_type": "markdown",
      "metadata": {
        "id": "P3O47G5RoIDx"
      },
      "source": [
        "## 15. Use the neural network to predict whether the image is a dog or cat"
      ]
    },
    {
      "cell_type": "code",
      "metadata": {
        "id": "KDoJF3UymjFW"
      },
      "source": [
        "prediction = model.predict(X_in)\n",
        "prediction"
      ],
      "execution_count": null,
      "outputs": []
    },
    {
      "cell_type": "code",
      "metadata": {
        "id": "ORWLs0mzm09K"
      },
      "source": [
        "# Get class prediction\n",
        "class_pred = (prediction > 0.5).astype(\"int32\")\n",
        "class_pred"
      ],
      "execution_count": null,
      "outputs": []
    },
    {
      "cell_type": "markdown",
      "metadata": {
        "id": "TlOSdNZhANXh"
      },
      "source": [
        "## Bonus"
      ]
    },
    {
      "cell_type": "code",
      "metadata": {
        "id": "xak6cm3aAIky"
      },
      "source": [
        "filepath = '/drive/My Drive/Data Science Instructor Material (for licensing)/Projects/Project 6/Data/kitt.jpg'\n",
        "\n",
        "X_in = prepare(filepath)\n",
        "\n",
        "img_array = cv2.imread(filepath, cv2.IMREAD_GRAYSCALE)\n",
        "plt.imshow(img_array, cmap='gray')\n",
        "plt.show()"
      ],
      "execution_count": null,
      "outputs": []
    },
    {
      "cell_type": "code",
      "metadata": {
        "id": "tC2n0It6Bbxd"
      },
      "source": [
        "prediction = model.predict(X_in)\n",
        "prediction"
      ],
      "execution_count": null,
      "outputs": []
    },
    {
      "cell_type": "code",
      "metadata": {
        "id": "swJ28YTrBdci"
      },
      "source": [
        "# Get class prediction\n",
        "class_pred = (prediction > 0.5).astype(\"int32\")\n",
        "class_pred"
      ],
      "execution_count": null,
      "outputs": []
    }
  ]
}
